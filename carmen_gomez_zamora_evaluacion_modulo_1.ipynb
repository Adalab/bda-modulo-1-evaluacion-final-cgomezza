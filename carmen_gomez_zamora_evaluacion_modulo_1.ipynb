{
 "cells": [
  {
   "cell_type": "markdown",
   "metadata": {},
   "source": [
    "# Evaluación modulo 1\n"
   ]
  },
  {
   "cell_type": "markdown",
   "metadata": {},
   "source": [
    "En este ejercicio vamos a desarrollar la clase \"TiendaOnline\", utilizando los conceptos aprendidos durante el modulo uno.\n",
    "\n",
    "Primeramente vamos a crear la clase y sus atributos\n"
   ]
  },
  {
   "cell_type": "code",
   "execution_count": 223,
   "metadata": {},
   "outputs": [],
   "source": [
    "class TiendaOnline:\n",
    "    def __init__(self):\n",
    "        self.inventario = []  # el inventario como una lista con diccionarios\n",
    "        self.clientes = {}    # clientes\n",
    "        self.ventas_totales = 0.0  # el numero de ventas totales.\n",
    "\n",
    "    def agregar_producto(self, nombre, precio, cantidad): # agregamos la función para definir el producto por nombre, precio y cantidad.\n",
    "        for producto in self.inventario:  # comprobamos si el producto está en el inventario\n",
    "            if producto['nombre'] == nombre:\n",
    "                producto['cantidad'] += cantidad  # producto['cantidad'] = producto['cantidad'] + cantidad, formula para introducir y sumar el stock\n",
    "                print(\"Cantidad actualizada del producto existente.\")\n",
    "                return self.inventario\n",
    "\n",
    "        nuevo_producto = {'nombre': nombre, 'precio': precio, 'cantidad': cantidad} #establecemos la variable con el formato de diccionario\n",
    "        self.inventario.append(nuevo_producto)\n",
    "        print(\"Producto agregado al inventario.\")  #cuando no está el producto en el inventario, queremos que lo añada por lo que utilizamos append\n",
    "        return self.inventario\n",
    "    \n",
    "    \n",
    "    def ver_inventario(self):        #definimos una función que nos muestre el inventario\n",
    "        for producto in self.inventario:\n",
    "            print(f\"Nombre: {producto.nombre}, Precio: {producto.precio}, Cantidad: {producto.cantidad}\") #por cada producto en el inventario imprimir \"Nombre precio y cantidad.\"\n",
    "\n",
    "  \n",
    "    def buscar_producto(self, nombre):  #para buscar un producto utiliamos for para que recorra la lista, si coincide que nos indique el producto, sino que no haga nada.\n",
    "        for producto in self.inventario:\n",
    "            if producto[\"nombre\"] == nombre:\n",
    "                print(producto)\n",
    "           \n",
    "    \n",
    "    def actualizar_inventario(self, nombre, cantidad):\n",
    "        for producto in self.inventario:\n",
    "            if producto[\"nombre\"] == nombre:  #si encuentra el producto\n",
    "                producto[\"cantidad\"] += cantidad # actualizar cantidad con la formula \" += producto['cantidad'] = producto['cantidad'] + cantidad\"\n",
    "                print(f\"Stock de '{nombre}' actualizado a {producto['cantidad']}\")\n",
    "                break     #ponemos el break para que no entre en un bucle, y cuando lo encuentre pare.\n",
    "        \n",
    "            if not producto:   # si el producto no está en el inventario, mostrar un mensaje\n",
    "                print(f\"El producto '{nombre}' no está en el inventario.\")\n",
    "    \n",
    "    def eliminar_producto(self,nombre):  # como en los casos anteriores indicamos que si el nombre de producto que introducimos esta en el inventario\n",
    "          for producto in self.inventario: \n",
    "            if producto['nombre'] == nombre: \n",
    "                self.inventario.remove(producto) # en ese caso eliminar \n",
    "                print(\"Producto eliminado.\")\n",
    "            else:                             # si el producto no está nada.\n",
    "                print(\"No ha sido posible eliminar producto. Producto inexistente\")\n",
    "\n",
    "    def calcular_valor_inventario(self):  # definimos el valor inicial como cero\n",
    "        valor = 0  \n",
    "        for producto in self.inventario: # indicamos que por cada prducto en el inventario nos multiplique precio por producto y nos de el valor total.\n",
    "            valor += producto['precio'] * producto['cantidad']\n",
    "    \n",
    "        return valor\n",
    "    \n",
    "    def realizar_compra(self):      # Creamos una nueva variable carrito que es una lista vacia y el total incial como cero\n",
    "        carrito_compra = []\n",
    "        total = 0\n",
    "\n",
    "        while True:                 # Iniciamos un bucle while indicando que \"Mientras sea cierto\", por una parte si el usuario indica salir, finalice el bucle por eso ponemos break\n",
    "            producto = input(\"¿Qué producto desea añadir al carrito? ( Si quiere salir, indique salir): \")\n",
    "            if producto ==\"salir\":\n",
    "                    break\n",
    "            elif producto in self.inventario:  # No identidica elif ¿¿??\n",
    "                carrito_compra.append(producto)\n",
    "                print(carrito_compra) # Por otra parte si el producto está en el inventario nos ponga ese producto en la lista \"carrito_compra\"\n",
    "                \n",
    "            else:        #Por último indicamos que si el usuario no dice salir, ni producto del inventario no haga nada.\n",
    "                pass\n",
    "\n",
    "\n",
    "    \n",
    "    \n",
    "    \n",
    "    # EJERCICIOS EXTRA\n",
    "    \n",
    "    def agregar_cliente(self, nombre, email):      # agregamos la funcion para definor agregar cliente con nombre y email\n",
    "        if nombre not in self.clientes:          #si nombre no esta en self.clientes \n",
    "            self.clientes[nombre] = {'email': email, 'compras': []}      #le pedimos que nos añada el nombre y dentro del nombre email y compras.\n",
    "            print(\"Cliente agregado al registro.\")\n",
    "        else:                                               #si esta no hacemos nada.\n",
    "            print(\"El cliente ya existe.\")\n",
    "\n",
    "    def agregar_compra(self, nombre, compra):        # por otra parte para contabilizar las compras añadimos esta función.\n",
    "        if nombre in self.clientes:                  # si nombre está en sel.clientes, añadir compra\n",
    "            self.clientes[nombre]['compras'].append(compra)        \n",
    "            print(\"Compra registrada en el historial de compra del cliente.\") # y le pedimos que cuando haga la compra nos indique que se ha \n",
    "        else:\n",
    "            print(\"El cliente no existe, por favor crear cliente.\") #si no está el cliente "
   ]
  },
  {
   "cell_type": "code",
   "execution_count": 219,
   "metadata": {},
   "outputs": [
    {
     "name": "stdout",
     "output_type": "stream",
     "text": [
      "Producto agregado al inventario.\n",
      "Producto agregado al inventario.\n",
      "Cantidad actualizada del producto existente.\n",
      "Producto agregado al inventario.\n",
      "[{'nombre': 'Camiseta', 'precio': 34, 'cantidad': 12}, {'nombre': 'Pantalon', 'precio': 45, 'cantidad': 78}, {'nombre': 'Cinturon', 'precio': 32, 'cantidad': 5}]\n",
      "{'nombre': 'Pantalon', 'precio': 45, 'cantidad': 78}\n",
      "Stock de 'Camiseta' actualizado a 17\n",
      "No ha sido posible eliminar producto. Producto inexistente\n",
      "No ha sido posible eliminar producto. Producto inexistente\n",
      "No ha sido posible eliminar producto. Producto inexistente\n",
      "Producto eliminado.\n",
      "No ha sido posible eliminar producto. Producto inexistente\n",
      "Producto agregado al inventario.\n"
     ]
    }
   ],
   "source": [
    " # Prueba de def agregar producto.\n",
    "mi_tienda = TiendaOnline()\n",
    "\n",
    " # Comprobación agregar producto \n",
    "producto1 = mi_tienda.agregar_producto(\"Camiseta\", 34, 5)\n",
    "prodcuto2 = mi_tienda.agregar_producto(\"Pantalon\",45,78)\n",
    "producto3 = mi_tienda.agregar_producto(\"Camiseta\",34,7)\n",
    "producto4 = mi_tienda.agregar_producto(\"Cinturon\",32,5)\n",
    "\n",
    " # Comprobación inventario \n",
    "print(mi_tienda.inventario)\n",
    "\n",
    " # Comprobación busqueda de producto\n",
    "mi_tienda.buscar_producto(\"Pantalon\")\n",
    "\n",
    " # Comprobación actualizar inventario \n",
    "mi_tienda.actualizar_inventario(\"Camiseta\",5)\n",
    "\n",
    " # Comprobación eliminar producto\n",
    "mi_tienda.eliminar_producto(\"Camisetas\")\n",
    "mi_tienda.eliminar_producto(\"Camiseta\")\n",
    "\n",
    " # Añadimos de nuevo el producto eliminado \n",
    "producto3 = mi_tienda.agregar_producto(\"Camiseta\",34,7)\n",
    "\n"
   ]
  },
  {
   "cell_type": "code",
   "execution_count": 220,
   "metadata": {},
   "outputs": [
    {
     "name": "stdout",
     "output_type": "stream",
     "text": [
      "[{'nombre': 'Pantalon', 'precio': 45, 'cantidad': 78}, {'nombre': 'Cinturon', 'precio': 32, 'cantidad': 5}, {'nombre': 'Camiseta', 'precio': 34, 'cantidad': 7}]\n"
     ]
    },
    {
     "data": {
      "text/plain": [
       "3908"
      ]
     },
     "execution_count": 220,
     "metadata": {},
     "output_type": "execute_result"
    }
   ],
   "source": [
    " # Comprobamos calcular valor del inventario \n",
    "print(mi_tienda.inventario)\n",
    "mi_tienda.calcular_valor_inventario()\n",
    "\n"
   ]
  },
  {
   "cell_type": "code",
   "execution_count": 221,
   "metadata": {},
   "outputs": [],
   "source": [
    "#Comprobamos realizar compra\n",
    "mi_tienda = TiendaOnline()\n",
    "mi_tienda.realizar_compra()\n",
    "\n"
   ]
  },
  {
   "cell_type": "code",
   "execution_count": 222,
   "metadata": {},
   "outputs": [
    {
     "name": "stdout",
     "output_type": "stream",
     "text": [
      "Cliente agregado al registro.\n",
      "{'Carmen': {'email': 'carmen@gmail.com', 'compras': []}}\n",
      "Compra registrada en el historial de compra del cliente.\n",
      "Compra registrada en el historial de compra del cliente.\n",
      "El cliente no existe, por favor crear cliente.\n"
     ]
    }
   ],
   "source": [
    "#prueba cliente\n",
    "cliente1 = mi_tienda.agregar_cliente(\"Carmen\", \"carmen@gmail.com\")\n",
    "print(mi_tienda.clientes)\n",
    "#Prueba historial cliente\n",
    "compra1 = mi_tienda.agregar_compra(\"Carmen\", 100)\n",
    "compra2 = mi_tienda.agregar_compra(\"Carmen\", 200)\n",
    "# Cliente no creado previamente\n",
    "compra3 = mi_tienda.agregar_compra(\"Lucia\", 200)"
   ]
  }
 ],
 "metadata": {
  "kernelspec": {
   "display_name": "base",
   "language": "python",
   "name": "python3"
  },
  "language_info": {
   "codemirror_mode": {
    "name": "ipython",
    "version": 3
   },
   "file_extension": ".py",
   "mimetype": "text/x-python",
   "name": "python",
   "nbconvert_exporter": "python",
   "pygments_lexer": "ipython3",
   "version": "3.11.7"
  }
 },
 "nbformat": 4,
 "nbformat_minor": 2
}
